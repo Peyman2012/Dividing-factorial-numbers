{
 "cells": [
  {
   "cell_type": "code",
   "execution_count": 1,
   "metadata": {},
   "outputs": [
    {
     "name": "stdout",
     "output_type": "stream",
     "text": [
      "Enter a:10\n"
     ]
    }
   ],
   "source": [
    "a=int(input(\"Enter a:\"))"
   ]
  },
  {
   "cell_type": "code",
   "execution_count": 4,
   "metadata": {},
   "outputs": [
    {
     "name": "stdout",
     "output_type": "stream",
     "text": [
      "- 1 / 1 + 2 / 2 - 3 / 6 + 4 / 24 - 5 / 120 + 6 / 720 - 7 / 5040 + 8 / 40320 - 9 / 362880 - 10 / 3628800 = 0.6321205357142857\n"
     ]
    }
   ],
   "source": [
    "sum=0\n",
    "sign=1\n",
    "k=1\n",
    "fact=1\n",
    "for i in range(1,a+1):\n",
    "    fact=fact*i\n",
    "    sum=sum+sign*k/fact\n",
    "    sign=-sign\n",
    "    if sign==1 and i!=a :\n",
    "        print(\"+\",i,\"/\",fact,end=' ')   \n",
    "    else:\n",
    "         print(\"-\",i,\"/\",fact,end=' ')  \n",
    "print(\"=\",sum)"
   ]
  },
  {
   "cell_type": "code",
   "execution_count": null,
   "metadata": {},
   "outputs": [],
   "source": []
  }
 ],
 "metadata": {
  "kernelspec": {
   "display_name": "Python 3",
   "language": "python",
   "name": "python3"
  },
  "language_info": {
   "codemirror_mode": {
    "name": "ipython",
    "version": 3
   },
   "file_extension": ".py",
   "mimetype": "text/x-python",
   "name": "python",
   "nbconvert_exporter": "python",
   "pygments_lexer": "ipython3",
   "version": "3.6.13"
  }
 },
 "nbformat": 4,
 "nbformat_minor": 2
}
